{
  "nbformat": 4,
  "nbformat_minor": 0,
  "metadata": {
    "colab": {
      "name": "Assign1_demo.ipynb",
      "provenance": [],
      "collapsed_sections": []
    },
    "kernelspec": {
      "display_name": "Python 3",
      "name": "python3"
    },
    "language_info": {
      "name": "python"
    },
    "accelerator": "GPU"
  },
  "cells": [
    {
      "cell_type": "code",
      "metadata": {
        "id": "cns4d7IC_qqk"
      },
      "source": [
        "import numpy as np\n",
        "import math"
      ],
      "execution_count": null,
      "outputs": []
    },
    {
      "cell_type": "code",
      "metadata": {
        "colab": {
          "base_uri": "https://localhost:8080/"
        },
        "id": "y7XD6806AF0U",
        "outputId": "cf531840-60dd-4be8-bb5f-083acde51448"
      },
      "source": [
        "# randomly generate x,y\n",
        "x = np.random.rand(2)\n",
        "y = (x[0]**2 + x[1]**2)/2\n",
        "\n",
        "# first hidden layer\n",
        "w01 = np.random.rand(10,2)\n",
        "b01 = np.random.rand(10,1)\n",
        "\n",
        "# second hidden layer\n",
        "w12 = np.random.rand(10)\n",
        "b12 = np.random.rand(10)\n",
        "print(w01)\n",
        "print(b01)\n",
        "print(w12)\n",
        "print(b12)"
      ],
      "execution_count": 9,
      "outputs": [
        {
          "output_type": "stream",
          "text": [
            "[[0.11053824 0.43232863]\n",
            " [0.99456011 0.12556181]\n",
            " [0.3831096  0.1318824 ]\n",
            " [0.92371145 0.57388239]\n",
            " [0.60093944 0.60921293]\n",
            " [0.87580652 0.45987647]\n",
            " [0.91286448 0.33270179]\n",
            " [0.23317415 0.64302704]\n",
            " [0.86656281 0.88017308]\n",
            " [0.00612996 0.91618516]]\n",
            "[[0.15248329]\n",
            " [0.98792046]\n",
            " [0.59144739]\n",
            " [0.37255404]\n",
            " [0.72077377]\n",
            " [0.2349931 ]\n",
            " [0.95383343]\n",
            " [0.7828949 ]\n",
            " [0.29868455]\n",
            " [0.97469718]]\n",
            "[0.83822323 0.38237847 0.08309667 0.27926363 0.36317496 0.71240211\n",
            " 0.60388677 0.97586789 0.54392889 0.67744885]\n",
            "[0.95259594 0.78566764 0.71508619 0.35556093 0.40253866 0.46308107\n",
            " 0.04647624 0.02631424 0.54417368 0.51052751]\n"
          ],
          "name": "stdout"
        }
      ]
    },
    {
      "cell_type": "code",
      "metadata": {
        "id": "MkPHOxY3AX08"
      },
      "source": [
        "def sigmoid(x):\n",
        "  # sigmoid function\n",
        "  return 1 / (1 + math. exp(-x))\n",
        "\n",
        "def forward01(x,w,b,act):\n",
        "  # first forward pass \n",
        "  z = x * w + b\n",
        "  v = []\n",
        "  for i in range(len(z)):\n",
        "    vv = act(z[i][0] + z[i][1])\n",
        "    v.append(vv)\n",
        "  return v,z \n",
        "\n",
        "def forward12(x,w,b,act):\n",
        "  # second forward pass\n",
        "  z = x * w + b\n",
        "  v = []\n",
        "  for i in range(len(z)):\n",
        "    vv = act(z[i])\n",
        "    v.append(vv)\n",
        "  return np.sum(v),z \n",
        "\n",
        "def loss(pred,y):\n",
        "  # loss function\n",
        "  L = (pred- y)**2\n",
        "  return L"
      ],
      "execution_count": 28,
      "outputs": []
    },
    {
      "cell_type": "code",
      "metadata": {
        "id": "aB0Fs64YAf90"
      },
      "source": [
        "# dL/dw12 = 2(yred-y) * sig(z2) * (1-sig(z2)) * -v1\n",
        "def gradient_w12(v,y,pred,z2):\n",
        "  dw12 = []\n",
        "  sigz2 = []\n",
        "  for i in range(10):\n",
        "    sigz = sigmoid(z2[i]) * (1 - sigmoid(z2[i]))\n",
        "    sigz2.append(sigz)\n",
        "    dw = -2 *v[i]* (pred - y) * sigz\n",
        "    dw12.append(dw)\n",
        "  return np.array(dw12),np.array(sigz2)\n",
        "# dL/db12 = 2 * (yred - y)*sig(z1)(1-sig(z1))\n",
        "def gradient_b12(y,pred,sigz2):\n",
        "  db12 = []\n",
        "  for i in range(10):\n",
        "    db = 2 * (pred - y)* sigz2[i]\n",
        "    db12.append(db)\n",
        "  return np.array(db12)"
      ],
      "execution_count": 59,
      "outputs": []
    },
    {
      "cell_type": "code",
      "metadata": {
        "id": "W6noiGyK6DUE"
      },
      "source": [
        "# dL/dw01 = 2 * (yred - y)* sig(z2) * w12 * sig(z1) * -x\n",
        "def gradient_w01(x,y,w12,z1,pred,sigz2):\n",
        "  dw01 = []\n",
        "  sigz1 = []\n",
        "  for i in range(10):\n",
        "    sigz = sigmoid(z1[i][0] + z1[i][1]) * (1 - sigmoid(z1[i][0] + z1[i][1]))\n",
        "    sigz1.append(sigz)\n",
        "    dw011 = -2 * x[0] * (pred - y) * sigz2[i] * w12[i] * sigz\n",
        "    dw012 = -2 * x[1] * (pred - y) * sigz2[i] * w12[i] * sigz\n",
        "    dw01.append([dw011,dw012])\n",
        "  return np.array(dw01),np.array(sigz1)\n",
        "\n",
        "# dL/db01 = 2 * (yred - y)*sig(z2)* w12 * sig(z1)\n",
        "def gradient_b01(y,pred,sigz2,sigz1,w12):\n",
        "  db01 = []\n",
        "  for i in range(10):\n",
        "    db = 2 * (pred - y)* sigz2[i] * w12[i] * sigz1[i]\n",
        "    db01.append([db])\n",
        "  return np.array(db01)"
      ],
      "execution_count": 74,
      "outputs": []
    },
    {
      "cell_type": "code",
      "metadata": {
        "colab": {
          "base_uri": "https://localhost:8080/"
        },
        "id": "yyKIYsVoEQFt",
        "outputId": "902b2068-beef-4bc3-e369-fc75b99ec336"
      },
      "source": [
        "# forward \n",
        "v1,z1 = forward01(x,w01,b01,sigmoid)\n",
        "y_pred,z2 = forward12(v1,w12,b12,sigmoid)\n",
        "\n",
        "# loss\n",
        "L = loss(y_pred,y)\n",
        "\n",
        "# gradient decent\n",
        "dw12,sigz2 = gradient_w12(v1,y,y_pred,z2)\n",
        "db12 = gradient_b12(y,y_pred,sigz2)\n",
        "dw01, sigz1 = gradient_w01(x,y,w12,z1,y_pred,sigz2)\n",
        "db01 = gradient_b01(y,y_pred,sigz2,sigz1,w12)\n",
        "\n",
        "print(dw12)\n",
        "print(db12)\n",
        "print(dw01)\n",
        "print(db01)\n",
        "\n"
      ],
      "execution_count": 75,
      "outputs": [
        {
          "output_type": "stream",
          "text": [
            "[-1.31585083 -2.30514521 -2.37490431 -2.62956265 -2.66130537 -2.08071665\n",
            " -2.86930525 -2.46325871 -2.24912784 -2.27994283]\n",
            "[1.98641011 2.44740055 2.87881518 3.06363502 2.93195317 2.58579292\n",
            " 3.04458197 2.74607448 2.6150319  2.45550307]\n",
            "[[-0.27255531 -0.24861507]\n",
            " [-0.03783732 -0.03451383]\n",
            " [-0.026648   -0.02430734]\n",
            " [-0.07735436 -0.07055984]\n",
            " [-0.06605971 -0.06025727]\n",
            " [-0.21251504 -0.19384851]\n",
            " [-0.07348467 -0.06703005]\n",
            " [-0.18156788 -0.16561964]\n",
            " [-0.12594543 -0.11488285]\n",
            " [-0.08112589 -0.0740001 ]]\n",
            "[[0.37350358]\n",
            " [0.0518514 ]\n",
            " [0.03651781]\n",
            " [0.10600465]\n",
            " [0.09052672]\n",
            " [0.29122576]\n",
            " [0.10070171]\n",
            " [0.24881648]\n",
            " [0.17259274]\n",
            " [0.11117307]]\n"
          ],
          "name": "stdout"
        }
      ]
    },
    {
      "cell_type": "code",
      "metadata": {
        "colab": {
          "base_uri": "https://localhost:8080/"
        },
        "id": "3Au657bUBMXR",
        "outputId": "31319a55-ac65-44d7-8a5c-8ddeba68a398"
      },
      "source": [
        "# calculate gradient decent with torch\n",
        "import torch\n",
        "x_train = torch.tensor(x)\n",
        "y_train = torch.tensor(y)\n",
        "\n",
        "tw01 = torch.tensor(w01, requires_grad=True)\n",
        "tb01 = torch.tensor(b01, requires_grad=True)\n",
        "tw12 = torch.tensor(w12, requires_grad=True)\n",
        "tb12 = torch.tensor(b12, requires_grad=True)\n",
        "\n",
        "m = torch.nn.Sigmoid()\n",
        "\n",
        "# forward \n",
        "v1,z = forward01(x_train,tw01,tb01,m)\n",
        "# the result of v1 is a list, need to convert it to tensor\n",
        "ve = np.array(v1)\n",
        "tv1 = torch.tensor(v1)\n",
        "tpred,z = forward12(tv1,tw12,tb12,m)\n",
        "\n",
        "# loss\n",
        "L = loss(tpred,y_train)\n",
        "\n",
        "# backward\n",
        "L.backward()\n",
        "\n",
        "print(tpred)\n",
        "print(tw01.grad)\n",
        "print(tb01.grad)\n",
        "print(tw12.grad)\n",
        "print(tb12.grad)\n"
      ],
      "execution_count": 68,
      "outputs": [
        {
          "output_type": "stream",
          "text": [
            "tensor(7.1734, dtype=torch.float64, grad_fn=<AddBackward0>)\n",
            "None\n",
            "None\n",
            "tensor([1.3143, 2.3053, 2.3741, 2.6292, 2.6613, 2.0795, 2.8698, 2.4630, 2.2485,\n",
            "        2.2800], dtype=torch.float64)\n",
            "tensor([1.9845, 2.4476, 2.8779, 3.0634, 2.9320, 2.5846, 3.0451, 2.7459, 2.6144,\n",
            "        2.4556], dtype=torch.float64)\n"
          ],
          "name": "stdout"
        }
      ]
    },
    {
      "cell_type": "code",
      "metadata": {
        "id": "hp1GAwCMIwul"
      },
      "source": [
        "n_iters = 20\n",
        "learning_rate = 0.1"
      ],
      "execution_count": 83,
      "outputs": []
    },
    {
      "cell_type": "code",
      "metadata": {
        "colab": {
          "base_uri": "https://localhost:8080/"
        },
        "id": "dIOtGjWVCsIW",
        "outputId": "8ac59de1-ee66-4537-ded3-a0b91529f1e0"
      },
      "source": [
        "\n",
        "for epoch in range(n_iters):\n",
        "  # prediction = forward pass\n",
        "  v1,z1 = forward01(x,w01,b01,sigmoid)\n",
        "  y_pred,z2 = forward12(v1,w12,b12,sigmoid)\n",
        "\n",
        "  # loss\n",
        "  L = loss(y_pred,y)\n",
        "\n",
        "  # gradients:\n",
        "  dw12,sigz2 = gradient_w12(v1,y,y_pred,z2)\n",
        "  db12 = gradient_b12(y,y_pred,sigz2)\n",
        "  dw01, sigz1 = gradient_w01(x,y,w12,z1,y_pred,sigz2)\n",
        "  db01 = gradient_b01(y,y_pred,sigz2,sigz1,w12)\n",
        "\n",
        "  # update w and b \n",
        "  w12 -= learning_rate * dw12\n",
        "  b12 -= learning_rate * db12\n",
        "  w01 -= learning_rate * dw01\n",
        "  b01 -= learning_rate * db01\n",
        "\n",
        "  if epoch % 1 == 0:\n",
        "    print(f'epoch{epoch + 1}: loss = {L}')\n"
      ],
      "execution_count": 84,
      "outputs": [
        {
          "output_type": "stream",
          "text": [
            "epoch1: loss = 17.707679035956602\n",
            "epoch2: loss = 15.3698496737384\n",
            "epoch3: loss = 13.307216919282205\n",
            "epoch4: loss = 11.517127244131428\n",
            "epoch5: loss = 9.983053069005745\n",
            "epoch6: loss = 8.680782228825905\n",
            "epoch7: loss = 7.581442466758169\n",
            "epoch8: loss = 6.654340639607789\n",
            "epoch9: loss = 5.869925732895914\n",
            "epoch10: loss = 5.201986919329141\n",
            "epoch11: loss = 4.628628633946717\n",
            "epoch12: loss = 4.132254735269113\n",
            "epoch13: loss = 3.699035169035062\n",
            "epoch14: loss = 3.318221576244457\n",
            "epoch15: loss = 2.9814963448116294\n",
            "epoch16: loss = 2.682415237626347\n",
            "epoch17: loss = 2.4159479759895905\n",
            "epoch18: loss = 2.178106069903481\n",
            "epoch19: loss = 1.9656478002895905\n",
            "epoch20: loss = 1.7758531921408391\n"
          ],
          "name": "stdout"
        }
      ]
    }
  ]
}