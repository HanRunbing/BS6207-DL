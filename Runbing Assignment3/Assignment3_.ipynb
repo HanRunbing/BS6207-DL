{
  "nbformat": 4,
  "nbformat_minor": 0,
  "metadata": {
    "colab": {
      "name": "Assignment3.ipynb",
      "provenance": [],
      "toc_visible": true
    },
    "kernelspec": {
      "name": "python3",
      "display_name": "Python 3"
    },
    "language_info": {
      "name": "python"
    }
  },
  "cells": [
    {
      "cell_type": "code",
      "metadata": {
        "id": "CXd5Lm8ka6DE"
      },
      "source": [
        "import torch\n",
        "import random\n",
        "from collections import OrderedDict\n",
        "import torchvision\n",
        "import numpy as np\n",
        "import math"
      ],
      "execution_count": 1,
      "outputs": []
    },
    {
      "cell_type": "markdown",
      "metadata": {
        "id": "ZCucCA3wylsu"
      },
      "source": [
        "# Generate input"
      ]
    },
    {
      "cell_type": "code",
      "metadata": {
        "colab": {
          "base_uri": "https://localhost:8080/"
        },
        "id": "HpTymaIubvIs",
        "outputId": "2bd8f38e-ae74-47b9-94e9-8abc5a5787ab"
      },
      "source": [
        "random.seed(127)\n",
        "input = torch.randn(1,3,32,32)\n",
        "input"
      ],
      "execution_count": 2,
      "outputs": [
        {
          "output_type": "execute_result",
          "data": {
            "text/plain": [
              "tensor([[[[-0.0662,  0.5268,  0.5395,  ...,  0.9719,  0.6289,  0.5902],\n",
              "          [ 0.1667, -0.0998, -0.8983,  ...,  0.3317,  0.6495,  0.3680],\n",
              "          [-1.0965, -0.9000, -2.1975,  ..., -0.3408, -0.0893,  0.4193],\n",
              "          ...,\n",
              "          [ 0.0989, -0.5774, -1.1059,  ..., -0.4656,  0.8693,  0.7781],\n",
              "          [-1.0299, -0.7237,  0.0807,  ..., -1.6059, -0.3684, -0.1214],\n",
              "          [-0.5087, -0.8605, -0.9958,  ..., -0.2940,  0.3346,  1.6017]],\n",
              "\n",
              "         [[ 0.8956, -0.0726,  0.7128,  ...,  1.1203,  0.7472,  0.6594],\n",
              "          [-1.7178,  0.3152, -0.6435,  ...,  0.2013, -1.6368,  0.7023],\n",
              "          [ 0.3194,  0.4115, -0.8222,  ..., -1.0655, -1.2694,  0.0892],\n",
              "          ...,\n",
              "          [ 1.1426, -0.2912, -0.0294,  ...,  0.2563, -0.2711,  0.4691],\n",
              "          [-1.1275,  0.3439, -0.0584,  ..., -1.5248,  1.7870, -0.3424],\n",
              "          [ 0.5836,  0.2167, -1.3560,  ..., -0.3772,  0.6446, -0.7104]],\n",
              "\n",
              "         [[-0.2822,  1.4276, -0.4466,  ..., -0.1916, -1.0598, -1.0482],\n",
              "          [-0.5058, -0.4743, -0.3000,  ...,  0.7394,  0.6160, -2.1036],\n",
              "          [-0.7682,  0.9008, -1.0608,  ...,  0.2470, -0.4782, -0.3011],\n",
              "          ...,\n",
              "          [-0.0716, -0.7474, -0.0571,  ...,  1.6517, -1.0469, -0.8152],\n",
              "          [ 0.9364,  0.5524, -0.2760,  ...,  0.1640,  1.5478, -1.3816],\n",
              "          [ 1.5566, -0.7824, -0.3763,  ..., -0.4598, -2.3893, -0.4563]]]])"
            ]
          },
          "metadata": {
            "tags": []
          },
          "execution_count": 2
        }
      ]
    },
    {
      "cell_type": "code",
      "metadata": {
        "id": "oJElB4BAWVcf"
      },
      "source": [
        "def RMSE(t_out,my_out,c,w,h):\n",
        "  error = 0\n",
        "  for k in range(c):\n",
        "    for j in range(w):\n",
        "      for i in range(h):\n",
        "        error += np.square(t_out[0][k][i][j] - my_out[k][i][j])\n",
        "  return np.sqrt(error)"
      ],
      "execution_count": null,
      "outputs": []
    },
    {
      "cell_type": "markdown",
      "metadata": {
        "id": "A6FeFdD2zCUm"
      },
      "source": [
        "# First page"
      ]
    },
    {
      "cell_type": "markdown",
      "metadata": {
        "id": "9yMcuRfKy3qG"
      },
      "source": [
        "## Model 1"
      ]
    },
    {
      "cell_type": "code",
      "metadata": {
        "id": "kwN677WPcLBF",
        "colab": {
          "base_uri": "https://localhost:8080/"
        },
        "outputId": "3d749997-65bf-460e-c12a-24c734636e26"
      },
      "source": [
        "# the pytorch model \n",
        "m1 = torch.nn.MaxPool2d(kernel_size=2, stride=1, padding=0,\n",
        "dilation=1, return_indices=False, ceil_mode=False)\n",
        "output1 = m1(input)\n",
        "output1.shape"
      ],
      "execution_count": null,
      "outputs": [
        {
          "output_type": "execute_result",
          "data": {
            "text/plain": [
              "torch.Size([1, 3, 31, 31])"
            ]
          },
          "metadata": {
            "tags": []
          },
          "execution_count": 59
        }
      ]
    },
    {
      "cell_type": "code",
      "metadata": {
        "id": "R6kQIKe0zoTl"
      },
      "source": [
        "def M1_script(input):\n",
        "  # the script of MaxPool2d\n",
        "  res = []\n",
        "  for k in range(3): \n",
        "    img = np.zeros((31,31))\n",
        "    for i in range(31):\n",
        "      for j in range(31):\n",
        "        temp = np.max(input[0][k][i:i+2,j:j+2])\n",
        "        img[i][j] = temp\n",
        "    #   new_img.append(new_row)\n",
        "    res.append(img)\n",
        "  return res"
      ],
      "execution_count": null,
      "outputs": []
    },
    {
      "cell_type": "code",
      "metadata": {
        "id": "CKy2iT0auF3m"
      },
      "source": [
        "array = np.array(input)\n",
        "res1 = M1_script(array)"
      ],
      "execution_count": null,
      "outputs": []
    },
    {
      "cell_type": "code",
      "metadata": {
        "colab": {
          "base_uri": "https://localhost:8080/"
        },
        "id": "8lHufnr5XZbi",
        "outputId": "97771751-e95a-496e-f0ac-02ca61be13f5"
      },
      "source": [
        "error1 = RMSE(np.array(output1),res1,3,31,31)\n",
        "error1"
      ],
      "execution_count": null,
      "outputs": [
        {
          "output_type": "execute_result",
          "data": {
            "text/plain": [
              "0.0"
            ]
          },
          "metadata": {
            "tags": []
          },
          "execution_count": 62
        }
      ]
    },
    {
      "cell_type": "markdown",
      "metadata": {
        "id": "EcAkJaSbzLK2"
      },
      "source": [
        "## Model 2"
      ]
    },
    {
      "cell_type": "code",
      "metadata": {
        "id": "uwyrEkIt-B3U",
        "colab": {
          "base_uri": "https://localhost:8080/"
        },
        "outputId": "855cc97f-b8ae-4847-b10a-2a5493190a1b"
      },
      "source": [
        "# the pytorch model \n",
        "m2 = torch.nn.AvgPool2d(kernel_size=2, stride=1, padding=0, \n",
        "                                    ceil_mode=False, count_include_pad=True, \n",
        "                                    divisor_override=None)\n",
        "output2 = m2(input)\n",
        "print(output2.shape)\n",
        "output2[0][0][0]"
      ],
      "execution_count": null,
      "outputs": [
        {
          "output_type": "stream",
          "text": [
            "torch.Size([1, 3, 31, 31])\n"
          ],
          "name": "stdout"
        },
        {
          "output_type": "execute_result",
          "data": {
            "text/plain": [
              "tensor([-0.5604, -0.1075, -0.1282,  0.1901,  0.4220,  0.1008,  0.2619,  0.7648,\n",
              "        -0.1247, -0.6874, -0.3407, -0.1819,  0.0714, -0.0434,  0.0189,  0.5389,\n",
              "         0.5705,  0.4693,  0.3527,  0.2768, -0.3354, -0.4788, -0.7790, -0.2606,\n",
              "         0.1202,  0.1616,  0.0631, -0.4901, -0.0208, -0.1059,  0.0977])"
            ]
          },
          "metadata": {
            "tags": []
          },
          "execution_count": 63
        }
      ]
    },
    {
      "cell_type": "code",
      "metadata": {
        "id": "MFhzCgS4zyHn"
      },
      "source": [
        "def M2_script(input):\n",
        "  # the script of AvgPool2d\n",
        "  res = []\n",
        "  for k in range(3): \n",
        "    img = np.zeros((31,31))\n",
        "    for i in range(31):\n",
        "      for j in range(31):\n",
        "        temp = np.mean(input[0][k][i:i+2,j:j+2])\n",
        "        img[i][j] = temp\n",
        "    #   new_img.append(new_row)\n",
        "    res.append(img)\n",
        "  return res"
      ],
      "execution_count": null,
      "outputs": []
    },
    {
      "cell_type": "code",
      "metadata": {
        "colab": {
          "base_uri": "https://localhost:8080/"
        },
        "id": "_NSJFw_w0CFX",
        "outputId": "8490ab33-3a41-4c9c-ce99-09767b5d0799"
      },
      "source": [
        "res2 = M2_script(array)\n",
        "res2[0][0]"
      ],
      "execution_count": null,
      "outputs": [
        {
          "output_type": "execute_result",
          "data": {
            "text/plain": [
              "array([-0.56041723, -0.10750734, -0.12817606,  0.19005522,  0.42203525,\n",
              "        0.10082519,  0.26189581,  0.76480162, -0.12474355, -0.68742669,\n",
              "       -0.34068647, -0.18188938,  0.07135148, -0.04344792,  0.01889145,\n",
              "        0.53888869,  0.5704897 ,  0.46925774,  0.35274857,  0.27680242,\n",
              "       -0.33539334, -0.47883061, -0.77901703, -0.26064014,  0.12018158,\n",
              "        0.16156997,  0.06311099, -0.49007162, -0.02075627, -0.1059294 ,\n",
              "        0.09769592])"
            ]
          },
          "metadata": {
            "tags": []
          },
          "execution_count": 65
        }
      ]
    },
    {
      "cell_type": "code",
      "metadata": {
        "colab": {
          "base_uri": "https://localhost:8080/"
        },
        "id": "a8esHV4-X9rJ",
        "outputId": "4670de83-1168-4335-90f2-a591ea0051a6"
      },
      "source": [
        "error2 = RMSE(np.array(output2),res2,3,31,31)\n",
        "error2"
      ],
      "execution_count": null,
      "outputs": [
        {
          "output_type": "execute_result",
          "data": {
            "text/plain": [
              "0.0"
            ]
          },
          "metadata": {
            "tags": []
          },
          "execution_count": 66
        }
      ]
    },
    {
      "cell_type": "markdown",
      "metadata": {
        "id": "s6WE3Ud90LNX"
      },
      "source": [
        "## Model 3"
      ]
    },
    {
      "cell_type": "code",
      "metadata": {
        "id": "iB9x4uPG3-1t"
      },
      "source": [
        "# the pytorch model \n",
        "m3 = torch.nn.Conv2d(in_channels=3, out_channels=6,kernel_size=3, stride=1,\n",
        "                     padding=0, dilation=1, groups=1, bias=True, \n",
        "                     padding_mode='zeros')"
      ],
      "execution_count": null,
      "outputs": []
    },
    {
      "cell_type": "code",
      "metadata": {
        "colab": {
          "base_uri": "https://localhost:8080/"
        },
        "id": "QRqJwE1b4Lvd",
        "outputId": "cfb57b72-7f00-4098-cbf1-8b7a02f0ed93"
      },
      "source": [
        "m3.weight.data.fill_(0.01)\n",
        "m3.bias.data.fill_(0.02)\n",
        "output3 = m3(input)\n",
        "print(output3.shape)\n",
        "output3[0][0][0]"
      ],
      "execution_count": null,
      "outputs": [
        {
          "output_type": "stream",
          "text": [
            "torch.Size([1, 6, 30, 30])\n"
          ],
          "name": "stdout"
        },
        {
          "output_type": "execute_result",
          "data": {
            "text/plain": [
              "tensor([-0.0259,  0.0761,  0.0313,  0.1048,  0.0323,  0.0951,  0.0485,  0.1090,\n",
              "         0.0567,  0.0301, -0.0039,  0.0189, -0.0183,  0.0187, -0.0066,  0.0777,\n",
              "         0.0440,  0.0901,  0.0193,  0.0094,  0.0265, -0.0055,  0.0319, -0.0174,\n",
              "         0.0746,  0.0208,  0.0552,  0.0104,  0.0680,  0.0407],\n",
              "       grad_fn=<SelectBackward>)"
            ]
          },
          "metadata": {
            "tags": []
          },
          "execution_count": 68
        }
      ]
    },
    {
      "cell_type": "code",
      "metadata": {
        "id": "OxmhfCvs046L"
      },
      "source": [
        "def M3_script(input,w,b):\n",
        "# The script of Conv2d kernel_size=3, dilation=1\n",
        "  res = []\n",
        "  for k in range(6): \n",
        "    img = np.zeros((30,30))\n",
        "    for i in range(30):\n",
        "      for j in range(30):\n",
        "        temp = []\n",
        "        for g in range(3):\n",
        "          temp.append(input[0][g][i:i+3,j:j+3] * w)\n",
        "        img[i][j] = np.sum(temp) + b\n",
        "    #   new_img.append(new_row)\n",
        "    res.append(img)\n",
        "  return res"
      ],
      "execution_count": null,
      "outputs": []
    },
    {
      "cell_type": "code",
      "metadata": {
        "colab": {
          "base_uri": "https://localhost:8080/"
        },
        "id": "MaRYrHpO3nZa",
        "outputId": "15e52e61-cb5d-49c9-9cd6-038946db0804"
      },
      "source": [
        "res3 = M3_script(array,0.01,0.02)\n",
        "res3[0][0]"
      ],
      "execution_count": null,
      "outputs": [
        {
          "output_type": "execute_result",
          "data": {
            "text/plain": [
              "array([-0.025907  ,  0.07605052,  0.03125939,  0.10478688,  0.03231597,\n",
              "        0.09511822,  0.04849885,  0.10904535,  0.05674535,  0.03013325,\n",
              "       -0.00389215,  0.01887149, -0.01826572,  0.01871268, -0.00660858,\n",
              "        0.07766109,  0.0440018 ,  0.09006143,  0.01931454,  0.00936575,\n",
              "        0.02652792, -0.00548301,  0.03187105, -0.01735724,  0.07459883,\n",
              "        0.02076983,  0.05518575,  0.01038799,  0.06801023,  0.04065682])"
            ]
          },
          "metadata": {
            "tags": []
          },
          "execution_count": 70
        }
      ]
    },
    {
      "cell_type": "code",
      "metadata": {
        "colab": {
          "base_uri": "https://localhost:8080/"
        },
        "id": "_EY81u5qYImR",
        "outputId": "ef463e14-56c5-412b-dde3-a92df5f4c188"
      },
      "source": [
        "out3 = output3.cpu().detach().numpy()\n",
        "error3 = RMSE(out3,res3,6,30,30)\n",
        "error3"
      ],
      "execution_count": null,
      "outputs": [
        {
          "output_type": "execute_result",
          "data": {
            "text/plain": [
              "4.496224235982009e-07"
            ]
          },
          "metadata": {
            "tags": []
          },
          "execution_count": 73
        }
      ]
    },
    {
      "cell_type": "markdown",
      "metadata": {
        "id": "fZ25ACCH_Qg0"
      },
      "source": [
        "## Model 4"
      ]
    },
    {
      "cell_type": "code",
      "metadata": {
        "id": "2YzHKFry67S9"
      },
      "source": [
        "m4 = torch.nn.Conv2d(in_channels=3, out_channels=6,\n",
        "kernel_size=5, stride=2, padding=0, dilation=2, groups=1,\n",
        "bias=True, padding_mode='zeros')"
      ],
      "execution_count": null,
      "outputs": []
    },
    {
      "cell_type": "code",
      "metadata": {
        "colab": {
          "base_uri": "https://localhost:8080/"
        },
        "id": "3P98KoJW6-TR",
        "outputId": "c99fbb81-fe58-4d75-c9f6-cfb46ba1156f"
      },
      "source": [
        "m4.weight.data.fill_(0.01)\n",
        "m4.bias.data.fill_(0.02)\n",
        "output4 = m4(input)\n",
        "print(output4.shape)\n",
        "output4[0][0][0]"
      ],
      "execution_count": null,
      "outputs": [
        {
          "output_type": "stream",
          "text": [
            "torch.Size([1, 6, 12, 12])\n"
          ],
          "name": "stdout"
        },
        {
          "output_type": "execute_result",
          "data": {
            "text/plain": [
              "tensor([ 0.0086,  0.0502, -0.0116,  0.0436, -0.0218, -0.0331, -0.0082,  0.0654,\n",
              "         0.0549,  0.1437,  0.1927,  0.1713], grad_fn=<SelectBackward>)"
            ]
          },
          "metadata": {
            "tags": []
          },
          "execution_count": 79
        }
      ]
    },
    {
      "cell_type": "code",
      "metadata": {
        "colab": {
          "base_uri": "https://localhost:8080/"
        },
        "id": "8880RlpCJEsA",
        "outputId": "bc7d32a6-08bc-41ef-c948-5e5b0630cb39"
      },
      "source": [
        "# since the  dilation=2, we should bulid a new wight with size 9\n",
        "w4 = np.zeros((9,9))\n",
        "for i in range(0,9,2):\n",
        "  for j in range(0,9,2):\n",
        "    w4[i][j] = 0.01\n",
        "w4\n"
      ],
      "execution_count": null,
      "outputs": [
        {
          "output_type": "execute_result",
          "data": {
            "text/plain": [
              "array([[0.01, 0.  , 0.01, 0.  , 0.01, 0.  , 0.01, 0.  , 0.01],\n",
              "       [0.  , 0.  , 0.  , 0.  , 0.  , 0.  , 0.  , 0.  , 0.  ],\n",
              "       [0.01, 0.  , 0.01, 0.  , 0.01, 0.  , 0.01, 0.  , 0.01],\n",
              "       [0.  , 0.  , 0.  , 0.  , 0.  , 0.  , 0.  , 0.  , 0.  ],\n",
              "       [0.01, 0.  , 0.01, 0.  , 0.01, 0.  , 0.01, 0.  , 0.01],\n",
              "       [0.  , 0.  , 0.  , 0.  , 0.  , 0.  , 0.  , 0.  , 0.  ],\n",
              "       [0.01, 0.  , 0.01, 0.  , 0.01, 0.  , 0.01, 0.  , 0.01],\n",
              "       [0.  , 0.  , 0.  , 0.  , 0.  , 0.  , 0.  , 0.  , 0.  ],\n",
              "       [0.01, 0.  , 0.01, 0.  , 0.01, 0.  , 0.01, 0.  , 0.01]])"
            ]
          },
          "metadata": {
            "tags": []
          },
          "execution_count": 76
        }
      ]
    },
    {
      "cell_type": "code",
      "metadata": {
        "id": "OKFzVdLJJWm-"
      },
      "source": [
        "def M4_script(input,w,b):\n",
        "  # the script of Conv2d kernel_size=5, dilation=2\n",
        "  res = []\n",
        "  for k in range(6): \n",
        "    img = np.zeros((12,12))\n",
        "    for i in range(0,24,2):\n",
        "      # 24 = 32 - 9 + 1 \n",
        "      for j in range(0,24,2):\n",
        "        temp = []\n",
        "        for g in range(3):\n",
        "          temp.append(input[0][g][i:i+9,j:j+9] * w)\n",
        "        img[i//2][j//2] = np.sum(temp) + b\n",
        "    res.append(img)\n",
        "  return res"
      ],
      "execution_count": null,
      "outputs": []
    },
    {
      "cell_type": "code",
      "metadata": {
        "colab": {
          "base_uri": "https://localhost:8080/"
        },
        "id": "vCiDqVduFkcz",
        "outputId": "a52ee769-4d62-4173-c29f-4dda963538d6"
      },
      "source": [
        "res4 = M4_script(array,w4,0.02)\n",
        "res4[0][0]"
      ],
      "execution_count": null,
      "outputs": [
        {
          "output_type": "execute_result",
          "data": {
            "text/plain": [
              "array([ 0.00855295,  0.05020118, -0.01162511,  0.04358543, -0.021835  ,\n",
              "       -0.0331358 , -0.00815958,  0.06539241,  0.05491396,  0.1437312 ,\n",
              "        0.19265763,  0.17129957])"
            ]
          },
          "metadata": {
            "tags": []
          },
          "execution_count": 80
        }
      ]
    },
    {
      "cell_type": "code",
      "metadata": {
        "colab": {
          "base_uri": "https://localhost:8080/"
        },
        "id": "spFM_zwYYyuh",
        "outputId": "e1d88a12-54cd-4aeb-a942-b5be015e249f"
      },
      "source": [
        "error3 = RMSE(output4,res4,6,12,12)\n",
        "error3"
      ],
      "execution_count": null,
      "outputs": [
        {
          "output_type": "execute_result",
          "data": {
            "text/plain": [
              "3.3014146947114005e-07"
            ]
          },
          "metadata": {
            "tags": []
          },
          "execution_count": 83
        }
      ]
    },
    {
      "cell_type": "markdown",
      "metadata": {
        "id": "NPdX-oM6JqCB"
      },
      "source": [
        "## Model 5"
      ]
    },
    {
      "cell_type": "code",
      "metadata": {
        "id": "QBGDP9ZIScgR"
      },
      "source": [
        "m5 = torch.nn.ConvTranspose2d(in_channels=3, out_channels=4,\n",
        "kernel_size=3, stride=1, padding=0, output_padding=0,\n",
        "groups=1, bias=True, dilation=1, padding_mode='zeros')"
      ],
      "execution_count": null,
      "outputs": []
    },
    {
      "cell_type": "code",
      "metadata": {
        "id": "lTNzAI1rSwnB",
        "colab": {
          "base_uri": "https://localhost:8080/"
        },
        "outputId": "24baaf55-1733-4514-e799-5c045361ba72"
      },
      "source": [
        "m5.weight.data.fill_(0.01)\n",
        "m5.bias.data.fill_(0.02)\n",
        "output5 = m5(input)\n",
        "print(output5.shape)\n",
        "output5[0][0]"
      ],
      "execution_count": null,
      "outputs": [
        {
          "output_type": "stream",
          "text": [
            "torch.Size([1, 4, 34, 34])\n"
          ],
          "name": "stdout"
        },
        {
          "output_type": "execute_result",
          "data": {
            "text/plain": [
              "tensor([[-0.0083,  0.0059,  0.0059,  ...,  0.0317,  0.0124,  0.0148],\n",
              "        [-0.0223, -0.0064, -0.0224,  ...,  0.0557,  0.0451,  0.0284],\n",
              "        [-0.0407, -0.0232, -0.0259,  ...,  0.0407,  0.0515,  0.0217],\n",
              "        ...,\n",
              "        [ 0.0482,  0.0118,  0.0193,  ...,  0.0287, -0.0062,  0.0214],\n",
              "        [ 0.0415,  0.0045, -0.0013,  ...,  0.0199, -0.0147,  0.0198],\n",
              "        [ 0.0420,  0.0251,  0.0265,  ...,  0.0029, -0.0185,  0.0039]],\n",
              "       grad_fn=<SelectBackward>)"
            ]
          },
          "metadata": {
            "tags": []
          },
          "execution_count": 85
        }
      ]
    },
    {
      "cell_type": "code",
      "metadata": {
        "colab": {
          "base_uri": "https://localhost:8080/"
        },
        "id": "XnggMAy1McVV",
        "outputId": "338c66f8-3d14-4601-c0cb-078b6d37a513"
      },
      "source": [
        "# build new input by adding interpolation\n",
        "# 36 = 32 +2+2 each side add 2 * 0\n",
        "inputT = []\n",
        "for k in range(3):\n",
        "  tempT= np.zeros((36,36))  \n",
        "  for i in range(2,34):\n",
        "    for j in range(2,34):\n",
        "      tempT[i][j] = array[0][k][i - 2][j - 2]\n",
        "  inputT.append(tempT)\n",
        "inputT = np.array(inputT)\n",
        "inputT.shape"
      ],
      "execution_count": null,
      "outputs": [
        {
          "output_type": "execute_result",
          "data": {
            "text/plain": [
              "(3, 36, 36)"
            ]
          },
          "metadata": {
            "tags": []
          },
          "execution_count": 86
        }
      ]
    },
    {
      "cell_type": "code",
      "metadata": {
        "id": "qT2Z0uOeKBHO"
      },
      "source": [
        "def M5_script(input,w,b):\n",
        "  # the script of ConvTranspose2d\n",
        "  res = []\n",
        "  for k in range(4): \n",
        "    img = np.zeros((34,34))\n",
        "    for i in range(34):\n",
        "      for j in range(34):\n",
        "        temp = []\n",
        "        for g in range(3):\n",
        "          temp.append(input[g][i:i+3,j:j+3] * w)\n",
        "        img[i][j] = np.sum(temp) + b\n",
        "    res.append(img)\n",
        "  return np.array(res)"
      ],
      "execution_count": null,
      "outputs": []
    },
    {
      "cell_type": "code",
      "metadata": {
        "colab": {
          "base_uri": "https://localhost:8080/"
        },
        "id": "9UkkTvreKTKe",
        "outputId": "e247eec4-0357-4eb5-97de-94da8cfc4c63"
      },
      "source": [
        "res5 = M5_script(inputT,0.01,0.02)\n",
        "res5[0][0]"
      ],
      "execution_count": null,
      "outputs": [
        {
          "output_type": "execute_result",
          "data": {
            "text/plain": [
              "array([-0.00834702,  0.00591917,  0.00593034,  0.03271648,  0.01853428,\n",
              "        0.04513393,  0.06553582,  0.08721901,  0.06947413,  0.05855929,\n",
              "        0.02814739,  0.02489543, -0.01065321,  0.01104944, -0.02179958,\n",
              "        0.03220751,  0.00403493,  0.04068441,  0.01327718,  0.02704545,\n",
              "        0.02749056,  0.03489428,  0.06121208,  0.00888699,  0.01123571,\n",
              "       -0.0194839 ,  0.05234765,  0.04103027,  0.04930419,  0.03925565,\n",
              "        0.03943456,  0.03173258,  0.01241508,  0.01482373])"
            ]
          },
          "metadata": {
            "tags": []
          },
          "execution_count": 96
        }
      ]
    },
    {
      "cell_type": "code",
      "metadata": {
        "colab": {
          "base_uri": "https://localhost:8080/"
        },
        "id": "ZiCjq9w0ZHkJ",
        "outputId": "61de6e58-bedf-449c-d65d-4f1ffeceeada"
      },
      "source": [
        "out5 = output5.cpu().detach().numpy()\n",
        "error5 = RMSE(out5,res5,4,34,34)\n",
        "error5"
      ],
      "execution_count": null,
      "outputs": [
        {
          "output_type": "execute_result",
          "data": {
            "text/plain": [
              "2.5423003690167885e-07"
            ]
          },
          "metadata": {
            "tags": []
          },
          "execution_count": 97
        }
      ]
    },
    {
      "cell_type": "markdown",
      "metadata": {
        "id": "fLXPLmtGQYig"
      },
      "source": [
        "#Second page"
      ]
    },
    {
      "cell_type": "markdown",
      "metadata": {
        "id": "EhBcDFioS5Om"
      },
      "source": [
        "##Model 6"
      ]
    },
    {
      "cell_type": "code",
      "metadata": {
        "id": "1lGebky3ZGZi",
        "colab": {
          "base_uri": "https://localhost:8080/"
        },
        "outputId": "3405f8f7-5099-4127-c7f3-560d9f92ba4c"
      },
      "source": [
        "output6 = torch.flatten(input, start_dim=0, end_dim=-1)\n",
        "print(output6.shape)\n",
        "output6"
      ],
      "execution_count": null,
      "outputs": [
        {
          "output_type": "stream",
          "text": [
            "torch.Size([3072])\n"
          ],
          "name": "stdout"
        },
        {
          "output_type": "execute_result",
          "data": {
            "text/plain": [
              "tensor([-1.6298,  0.6396, -0.5472,  ...,  0.0807, -0.0957, -0.8763])"
            ]
          },
          "metadata": {
            "tags": []
          },
          "execution_count": 98
        }
      ]
    },
    {
      "cell_type": "code",
      "metadata": {
        "colab": {
          "base_uri": "https://localhost:8080/"
        },
        "id": "ZUQypxg4Q-ja",
        "outputId": "bf2368fb-380e-4dd2-fdae-d5288243cf4b"
      },
      "source": [
        "def M6_script(array):\n",
        "  # the script of flatten\n",
        "  res = []\n",
        "  for k in range(3):\n",
        "    for i in range(32):\n",
        "      for j in range(32):\n",
        "        res.append(array[0][k][i][j])\n",
        "  return np.array(res)\n",
        "res6 = M6_script(array)\n",
        "print(res6.shape)\n",
        "res6 "
      ],
      "execution_count": null,
      "outputs": [
        {
          "output_type": "stream",
          "text": [
            "(3072,)\n"
          ],
          "name": "stdout"
        },
        {
          "output_type": "execute_result",
          "data": {
            "text/plain": [
              "array([-1.6298413 ,  0.63964784, -0.5472226 , ...,  0.08069441,\n",
              "       -0.09567828, -0.8763014 ], dtype=float32)"
            ]
          },
          "metadata": {
            "tags": []
          },
          "execution_count": 99
        }
      ]
    },
    {
      "cell_type": "code",
      "metadata": {
        "id": "Tu6gxDV9Z4P6"
      },
      "source": [
        "def RMSE6(t_out,my_out,n):\n",
        "  error = 0\n",
        "  for i in range(n):\n",
        "    error += np.square(t_out[i] - my_out[i])\n",
        "  return np.sqrt(error)"
      ],
      "execution_count": null,
      "outputs": []
    },
    {
      "cell_type": "code",
      "metadata": {
        "colab": {
          "base_uri": "https://localhost:8080/"
        },
        "id": "T8qzjRSvZsNq",
        "outputId": "2bf962d5-f7ec-4c27-b82f-d169bc0b17ac"
      },
      "source": [
        "out6 = output6.cpu().detach().numpy()\n",
        "error5 = RMSE6(out6,res6,3072)\n",
        "error5"
      ],
      "execution_count": null,
      "outputs": [
        {
          "output_type": "execute_result",
          "data": {
            "text/plain": [
              "0.0"
            ]
          },
          "metadata": {
            "tags": []
          },
          "execution_count": 107
        }
      ]
    },
    {
      "cell_type": "markdown",
      "metadata": {
        "id": "bn-_ZiKCS85f"
      },
      "source": [
        "## Model 7"
      ]
    },
    {
      "cell_type": "code",
      "metadata": {
        "id": "EjZyCO4ebBY2",
        "colab": {
          "base_uri": "https://localhost:8080/"
        },
        "outputId": "e8be3e34-f509-4081-9a7a-f37e2317b60e"
      },
      "source": [
        "output7 = torch.sigmoid(input,out=None)\n",
        "print(output7.shape)\n",
        "output7[0][0][0]"
      ],
      "execution_count": null,
      "outputs": [
        {
          "output_type": "stream",
          "text": [
            "torch.Size([1, 3, 32, 32])\n"
          ],
          "name": "stdout"
        },
        {
          "output_type": "execute_result",
          "data": {
            "text/plain": [
              "tensor([0.1639, 0.6547, 0.3665, 0.3857, 0.6155, 0.6776, 0.7530, 0.8542, 0.7240,\n",
              "        0.6014, 0.2479, 0.4840, 0.4849, 0.7901, 0.3487, 0.6927, 0.3314, 0.6170,\n",
              "        0.4447, 0.7458, 0.7249, 0.2846, 0.7504, 0.4071, 0.6372, 0.2200, 0.7354,\n",
              "        0.3561, 0.5091, 0.4223, 0.4210, 0.6998])"
            ]
          },
          "metadata": {
            "tags": []
          },
          "execution_count": 112
        }
      ]
    },
    {
      "cell_type": "code",
      "metadata": {
        "colab": {
          "base_uri": "https://localhost:8080/"
        },
        "id": "r34CkVhQRwez",
        "outputId": "02347792-632b-4cf4-e70f-3adc7ce79329"
      },
      "source": [
        "def sigmoid(x):\n",
        "  # sigmoid function\n",
        "  return 1 / (1 + math. exp(-x))\n",
        "def M7_script(array):\n",
        "  res = []\n",
        "  for k in range(3):\n",
        "    temp = np.zeros((32,32))\n",
        "    for i in range(32):\n",
        "      for j in range(32):\n",
        "        temp[i][j] = sigmoid(array[0][k][i][j])\n",
        "    res.append(temp)\n",
        "  return np.array(res)\n",
        "res7 = M7_script(array)\n",
        "print(res7.shape)\n",
        "res7[0][0] "
      ],
      "execution_count": null,
      "outputs": [
        {
          "output_type": "stream",
          "text": [
            "(3, 32, 32)\n"
          ],
          "name": "stdout"
        },
        {
          "output_type": "execute_result",
          "data": {
            "text/plain": [
              "array([0.1638521 , 0.65467385, 0.36650902, 0.38568981, 0.61551092,\n",
              "       0.67759834, 0.75300484, 0.85419014, 0.72399779, 0.60138138,\n",
              "       0.24786309, 0.48396389, 0.48487302, 0.79005049, 0.34873877,\n",
              "       0.69270123, 0.33142552, 0.61703423, 0.44474867, 0.7458114 ,\n",
              "       0.72489079, 0.28461057, 0.75042433, 0.40705442, 0.63719936,\n",
              "       0.21998145, 0.73544185, 0.35605823, 0.50909255, 0.42233098,\n",
              "       0.42103865, 0.69976382])"
            ]
          },
          "metadata": {
            "tags": []
          },
          "execution_count": 113
        }
      ]
    },
    {
      "cell_type": "code",
      "metadata": {
        "colab": {
          "base_uri": "https://localhost:8080/"
        },
        "id": "AVjMYlUXaOkJ",
        "outputId": "ea7dd111-8bc4-4146-a442-2b4261e34fbc"
      },
      "source": [
        "out7 = output7.cpu().detach().numpy()\n",
        "error7 = RMSE(out7,res7,3,32,32)\n",
        "error7"
      ],
      "execution_count": null,
      "outputs": [
        {
          "output_type": "execute_result",
          "data": {
            "text/plain": [
              "1.1555854912187194e-06"
            ]
          },
          "metadata": {
            "tags": []
          },
          "execution_count": 115
        }
      ]
    },
    {
      "cell_type": "markdown",
      "metadata": {
        "id": "X-Pn7_CVfENU"
      },
      "source": [
        "## Model 8"
      ]
    },
    {
      "cell_type": "code",
      "metadata": {
        "id": "6gkt1t_0ZB2l"
      },
      "source": [
        "rois_in_feature = torch.Tensor([[0, 5.0231, 6.0234, 15.1564, 19.6561]])  #取4位小数\n",
        "roi_start_w = 5\n",
        "roi_start_h = 6\n",
        "roi_end_w = 15\n",
        "roi_end_h = 20\n",
        "\n",
        "roi_width = (roi_end_w - roi_start_w + 1)\n",
        "roi_height = (roi_end_h - roi_start_h + 1)\n",
        "\n",
        "bin_size_w = roi_width / 3\n",
        "bin_size_h = roi_height / 3"
      ],
      "execution_count": null,
      "outputs": []
    },
    {
      "cell_type": "code",
      "metadata": {
        "colab": {
          "base_uri": "https://localhost:8080/"
        },
        "id": "xkQfSc0zcL5G",
        "outputId": "6e861fb1-d020-40ad-c70a-342bd08d8f42"
      },
      "source": [
        "m8 = torchvision.ops.roi_pool(input, rois_in_feature,output_size=(3, 3))\n",
        "print(m8.shape)\n",
        "m8[0][0]"
      ],
      "execution_count": null,
      "outputs": [
        {
          "output_type": "stream",
          "text": [
            "torch.Size([1, 3, 3, 3])\n"
          ],
          "name": "stdout"
        },
        {
          "output_type": "execute_result",
          "data": {
            "text/plain": [
              "tensor([[1.7590, 2.5338, 1.8760],\n",
              "        [1.8031, 2.6782, 1.8412],\n",
              "        [1.6808, 2.2893, 1.8962]])"
            ]
          },
          "metadata": {
            "tags": []
          },
          "execution_count": 134
        }
      ]
    },
    {
      "cell_type": "code",
      "metadata": {
        "colab": {
          "base_uri": "https://localhost:8080/"
        },
        "id": "yqktgrata4zq",
        "outputId": "05d5e894-89bf-4974-a644-6e0599ee65e8"
      },
      "source": [
        "# the script of ROI pooling\n",
        "res8 = []\n",
        "for j in range(3):\n",
        "    sub_res = []\n",
        "    for i in range(3):\n",
        "        sub_res.append(input[..., int(6+bin_size_h*(j)):math.ceil(6+bin_size_h*(j+1)), int(5+bin_size_w*(i)):math.ceil(5+bin_size_w*(i+1))][0][0].max())\n",
        "    res8.append(sub_res)\n",
        "res8"
      ],
      "execution_count": null,
      "outputs": [
        {
          "output_type": "execute_result",
          "data": {
            "text/plain": [
              "[[tensor(1.7590), tensor(2.5338), tensor(1.8760)],\n",
              " [tensor(1.8031), tensor(2.6782), tensor(1.8412)],\n",
              " [tensor(1.6808), tensor(2.2893), tensor(1.8962)]]"
            ]
          },
          "metadata": {
            "tags": []
          },
          "execution_count": 140
        }
      ]
    },
    {
      "cell_type": "code",
      "metadata": {
        "id": "V7UODRAFbvAx"
      },
      "source": [
        "def RMSE8(t_out,my_out,c,w,h):\n",
        "  error = 0\n",
        "  for k in range(1):\n",
        "    for j in range(w):\n",
        "      for i in range(h):\n",
        "        error += np.square(t_out[0][k][i][j] - my_out[i][j])\n",
        "  return np.sqrt(error)"
      ],
      "execution_count": null,
      "outputs": []
    },
    {
      "cell_type": "code",
      "metadata": {
        "colab": {
          "base_uri": "https://localhost:8080/"
        },
        "id": "Qtmu6n3Aa_UP",
        "outputId": "23719f3e-0834-4a9a-a0cf-79fe83a240da"
      },
      "source": [
        "error8 = RMSE8(m8,res8,3,3,3)\n",
        "error8"
      ],
      "execution_count": null,
      "outputs": [
        {
          "output_type": "execute_result",
          "data": {
            "text/plain": [
              "tensor(0.)"
            ]
          },
          "metadata": {
            "tags": []
          },
          "execution_count": 142
        }
      ]
    },
    {
      "cell_type": "markdown",
      "metadata": {
        "id": "RIK2ufp5fftL"
      },
      "source": [
        "## Model 9"
      ]
    },
    {
      "cell_type": "code",
      "metadata": {
        "colab": {
          "base_uri": "https://localhost:8080/"
        },
        "id": "-3aK7Qvuc7JF",
        "outputId": "a929aeb9-4394-46e5-dbd6-9404058ce688"
      },
      "source": [
        "running_mean = torch.zeros(3) + 1\n",
        "running_var = torch.ones(3) * 2\n",
        "m9 = torch.nn.functional.batch_norm(input, running_mean, running_var,\n",
        "weight=None, bias=None, training=False, momentum=0.1,\n",
        "eps=1e-05)\n",
        "print(m9.shape)\n",
        "m9[0][0]"
      ],
      "execution_count": null,
      "outputs": [
        {
          "output_type": "stream",
          "text": [
            "torch.Size([1, 3, 32, 32])\n"
          ],
          "name": "stdout"
        },
        {
          "output_type": "execute_result",
          "data": {
            "text/plain": [
              "tensor([[-1.8596, -0.2548, -1.0940,  ..., -0.9286, -0.9323, -0.1088],\n",
              "        [-1.6276, -0.6715, -1.1122,  ..., -0.2818, -0.9853, -0.5257],\n",
              "        [-1.4257, -0.7150, -0.2403,  ..., -0.7328,  0.3231,  0.0165],\n",
              "        ...,\n",
              "        [ 0.3318, -0.8083, -0.1066,  ..., -0.4747, -1.2321, -0.5108],\n",
              "        [-1.7105, -1.5052, -0.7598,  ..., -0.0919, -1.9464,  0.1522],\n",
              "        [-0.4635, -0.9716, -0.4122,  ..., -0.3265, -2.0441, -0.6720]])"
            ]
          },
          "metadata": {
            "tags": []
          },
          "execution_count": 143
        }
      ]
    },
    {
      "cell_type": "code",
      "metadata": {
        "id": "BU8BhPDeeaNd"
      },
      "source": [
        "def M9_script(array,mean,var,eps):\n",
        "  # The script of batch_norm\n",
        "  res = []\n",
        "  for k in range(3):\n",
        "    img = np.zeros((32,32))\n",
        "    for i in range(32):\n",
        "      for j in range(32):\n",
        "        img[i][j] = (array[0][k][i][j] - mean)/ np.sqrt(var + eps)\n",
        "    res.append(img)\n",
        "  return res"
      ],
      "execution_count": null,
      "outputs": []
    },
    {
      "cell_type": "code",
      "metadata": {
        "id": "AzCKxdL0kA1O",
        "colab": {
          "base_uri": "https://localhost:8080/"
        },
        "outputId": "81636648-21c7-41d3-a7d3-40bfd8e77f38"
      },
      "source": [
        "array = np.array(input)\n",
        "res9 = M9_script(array,1,2,1e-05)\n",
        "res9[0]"
      ],
      "execution_count": null,
      "outputs": [
        {
          "output_type": "execute_result",
          "data": {
            "text/plain": [
              "array([[-1.85957399, -0.25480682, -1.09404887, ..., -0.9285786 ,\n",
              "        -0.93232581, -0.10877151],\n",
              "       [-1.62764737, -0.67148708, -1.11215321, ..., -0.28184429,\n",
              "        -0.9852842 , -0.52571344],\n",
              "       [-1.42571297, -0.71501901, -0.2402597 , ..., -0.73275968,\n",
              "         0.32309036,  0.0164916 ],\n",
              "       ...,\n",
              "       [ 0.33183496, -0.80833885, -0.10664841, ..., -0.47471548,\n",
              "        -1.23206849, -0.5107705 ],\n",
              "       [-1.71045881, -1.505218  , -0.75977913, ..., -0.09194839,\n",
              "        -1.94644761,  0.15217731],\n",
              "       [-0.46348059, -0.97159732, -0.41223654, ..., -0.32646218,\n",
              "        -2.04409867, -0.67196843]])"
            ]
          },
          "metadata": {
            "tags": []
          },
          "execution_count": 146
        }
      ]
    },
    {
      "cell_type": "code",
      "metadata": {
        "colab": {
          "base_uri": "https://localhost:8080/"
        },
        "id": "pcs1v9HQc1e0",
        "outputId": "04f45060-31f4-4f79-f8c3-8428cac1e575"
      },
      "source": [
        "out9 = m9.cpu().detach().numpy()\n",
        "error9 = RMSE(out9,res9,3,32,32)\n",
        "error9"
      ],
      "execution_count": null,
      "outputs": [
        {
          "output_type": "execute_result",
          "data": {
            "text/plain": [
              "2.8989378585758513e-06"
            ]
          },
          "metadata": {
            "tags": []
          },
          "execution_count": 147
        }
      ]
    },
    {
      "cell_type": "markdown",
      "metadata": {
        "id": "edK938Txmh-w"
      },
      "source": [
        "##Model 10"
      ]
    },
    {
      "cell_type": "code",
      "metadata": {
        "id": "kx7khHRdmhso"
      },
      "source": [
        "random.seed(128)\n",
        "input10 = torch.FloatTensor(3,32,32).uniform_(0,1)\n",
        "target = torch.randint(0,3, (3,32,))\n",
        "# target= target.type(torch.LongTensor)"
      ],
      "execution_count": 53,
      "outputs": []
    },
    {
      "cell_type": "code",
      "metadata": {
        "colab": {
          "base_uri": "https://localhost:8080/"
        },
        "id": "d8kwUHOYROoR",
        "outputId": "5c2d0f4c-80ef-4991-b9a3-94a2c8d9b29d"
      },
      "source": [
        "array10 = np.array(input10)\n",
        "array10[2]"
      ],
      "execution_count": 30,
      "outputs": [
        {
          "output_type": "execute_result",
          "data": {
            "text/plain": [
              "array([[0.07785201, 0.25821805, 0.60242313, ..., 0.7303437 , 0.29609632,\n",
              "        0.10219741],\n",
              "       [0.37144697, 0.81550455, 0.61697096, ..., 0.6135922 , 0.9873885 ,\n",
              "        0.69450676],\n",
              "       [0.9050689 , 0.61334574, 0.32565093, ..., 0.07359326, 0.5310299 ,\n",
              "        0.04006654],\n",
              "       ...,\n",
              "       [0.59780174, 0.27778727, 0.3109001 , ..., 0.30358863, 0.62489045,\n",
              "        0.08473581],\n",
              "       [0.86480725, 0.9172278 , 0.6139338 , ..., 0.31119424, 0.81177133,\n",
              "        0.66187507],\n",
              "       [0.96256286, 0.55362916, 0.7128168 , ..., 0.7798468 , 0.32170558,\n",
              "        0.7789511 ]], dtype=float32)"
            ]
          },
          "metadata": {
            "tags": []
          },
          "execution_count": 30
        }
      ]
    },
    {
      "cell_type": "code",
      "metadata": {
        "id": "wwCRTZ7sEbv1"
      },
      "source": [
        "import math\n",
        "def M10_script(array,target):\n",
        "  # The script of cross_entropy\n",
        "  res= []\n",
        "  for k in range(3):\n",
        "    img = np.zeros((32,32))\n",
        "    for i in range(32):\n",
        "      for j in range(32):\n",
        "        temp = -1 * math.log(np.exp(input[target[k,i],i,j]) / np.exp(input[:,i,j]).sum())    \n",
        "  return np.mean(res)"
      ],
      "execution_count": 44,
      "outputs": []
    },
    {
      "cell_type": "code",
      "metadata": {
        "id": "zrKUQgxmljZ-"
      },
      "source": [
        "res10 = M10_script(array10,target)"
      ],
      "execution_count": null,
      "outputs": []
    },
    {
      "cell_type": "code",
      "metadata": {
        "colab": {
          "base_uri": "https://localhost:8080/"
        },
        "id": "tDHdq5Dbm0J5",
        "outputId": "aa47e247-a3ab-4468-80a2-5cf32416156d"
      },
      "source": [
        "m10 = torch.nn.functional.cross_entropy(input10, target, weight=None,\n",
        "size_average=None, ignore_index=-100, reduce=None,\n",
        "reduction='mean')\n",
        "m10"
      ],
      "execution_count": 54,
      "outputs": [
        {
          "output_type": "execute_result",
          "data": {
            "text/plain": [
              "tensor(3.5121)"
            ]
          },
          "metadata": {
            "tags": []
          },
          "execution_count": 54
        }
      ]
    },
    {
      "cell_type": "code",
      "metadata": {
        "colab": {
          "base_uri": "https://localhost:8080/"
        },
        "id": "rOeOqS7MlrAB",
        "outputId": "72986779-32aa-4a95-91ad-f97611e9ee7f"
      },
      "source": [
        "RMSE = m10 - res10\n",
        "RMSE"
      ],
      "execution_count": 57,
      "outputs": [
        {
          "output_type": "execute_result",
          "data": {
            "text/plain": [
              "tensor(0.)"
            ]
          },
          "metadata": {
            "tags": []
          },
          "execution_count": 57
        }
      ]
    },
    {
      "cell_type": "markdown",
      "metadata": {
        "id": "-XQbsXsrjN7Q"
      },
      "source": [
        "## Model 11"
      ]
    },
    {
      "cell_type": "code",
      "metadata": {
        "id": "DjRxhFGGdas5"
      },
      "source": [
        "target = torch.randn(1,3,32,32)"
      ],
      "execution_count": null,
      "outputs": []
    },
    {
      "cell_type": "code",
      "metadata": {
        "colab": {
          "base_uri": "https://localhost:8080/"
        },
        "id": "srygjbKljRGn",
        "outputId": "a6a0d7b0-e527-4001-a653-270ed77afe23"
      },
      "source": [
        "m11 = torch.nn.functional.mse_loss(input, target, size_average=None,\n",
        "reduce=None, reduction='mean')\n",
        "m11"
      ],
      "execution_count": null,
      "outputs": [
        {
          "output_type": "execute_result",
          "data": {
            "text/plain": [
              "tensor(2.0276)"
            ]
          },
          "metadata": {
            "tags": []
          },
          "execution_count": 156
        }
      ]
    },
    {
      "cell_type": "code",
      "metadata": {
        "id": "EAw1UsIbkQRW"
      },
      "source": [
        "def M11_script(array,target):\n",
        "  # The script of MSE\n",
        "  L = []\n",
        "  for k in range(3):\n",
        "    for i in range(32):\n",
        "      for j in range(32):\n",
        "        L.append(np.square(array[0][k][i][j] - target[0][k][i][j]))\n",
        "  return np.mean(L)"
      ],
      "execution_count": null,
      "outputs": []
    },
    {
      "cell_type": "code",
      "metadata": {
        "colab": {
          "base_uri": "https://localhost:8080/"
        },
        "id": "RiZCjbVBmUqX",
        "outputId": "3434ecff-9444-401a-d4f0-003a39d44fa7"
      },
      "source": [
        "targ = np.array(target)\n",
        "res11 = M11_script(array,targ)\n",
        "res11"
      ],
      "execution_count": null,
      "outputs": [
        {
          "output_type": "execute_result",
          "data": {
            "text/plain": [
              "2.0275514"
            ]
          },
          "metadata": {
            "tags": []
          },
          "execution_count": 158
        }
      ]
    },
    {
      "cell_type": "code",
      "metadata": {
        "colab": {
          "base_uri": "https://localhost:8080/"
        },
        "id": "0Xg2sqp8dIKp",
        "outputId": "be8fc710-174a-4878-fb7b-f75c63f50560"
      },
      "source": [
        "error11 = np.array(m11) - res11\n",
        "error11"
      ],
      "execution_count": null,
      "outputs": [
        {
          "output_type": "execute_result",
          "data": {
            "text/plain": [
              "2.3841858e-07"
            ]
          },
          "metadata": {
            "tags": []
          },
          "execution_count": 160
        }
      ]
    }
  ]
}