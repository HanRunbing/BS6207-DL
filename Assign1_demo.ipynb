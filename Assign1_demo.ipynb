{
  "nbformat": 4,
  "nbformat_minor": 0,
  "metadata": {
    "colab": {
      "name": "Assign1_demo.ipynb",
      "provenance": []
    },
    "kernelspec": {
      "display_name": "Python 3",
      "name": "python3"
    },
    "language_info": {
      "name": "python"
    }
  },
  "cells": [
    {
      "cell_type": "code",
      "metadata": {
        "colab": {
          "background_save": true
        },
        "id": "cns4d7IC_qqk"
      },
      "source": [
        "import numpy as np\n",
        "import math"
      ],
      "execution_count": null,
      "outputs": []
    },
    {
      "cell_type": "code",
      "metadata": {
        "colab": {
          "base_uri": "https://localhost:8080/"
        },
        "id": "y7XD6806AF0U",
        "outputId": "c3bd50d1-0d3d-4eb8-d07f-da9a6a57d8db"
      },
      "source": [
        "random.seed(9)\n",
        "x = np.random.rand(2,1)\n",
        "y = (x[0]**2 + x[1]**2)/2\n",
        "w = np.  \n",
        "w = np.random.rand(2,2)\n",
        "b = np.random.rand(2,1)\n",
        "print(x)\n",
        "print(y)\n",
        "print(w)\n",
        "print(b)"
      ],
      "execution_count": null,
      "outputs": [
        {
          "output_type": "stream",
          "text": [
            "[[0.37644253]\n",
            " [0.10730914]]\n",
            "[0.07661212]\n",
            "[[0.64621988 0.17736605]\n",
            " [0.92203912 0.23197036]]\n",
            "[[0.96407384]\n",
            " [0.41584303]]\n"
          ],
          "name": "stdout"
        }
      ]
    },
    {
      "cell_type": "code",
      "metadata": {
        "id": "MkPHOxY3AX08"
      },
      "source": [
        "def sigmoid(x):\n",
        "  return 1 / (1 + math. exp(-x))\n",
        "\n",
        "def forward(x,w,b):\n",
        "  z =np.sum(x * w + b)\n",
        "  return sigmoid(z) \n",
        "\n",
        "def loss(pred,y):\n",
        "  L = (pred- y)**2\n",
        "  return L"
      ],
      "execution_count": null,
      "outputs": []
    },
    {
      "cell_type": "code",
      "metadata": {
        "id": "aB0Fs64YAf90"
      },
      "source": [
        "# dL/dw = 2x(w*x + b - y) = 2x(pred - y)\n",
        "def gradient_w(x,y,pred):\n",
        "  return np.array(2 * x [0]* (pred - y), 2 * x [1]* (pred - y))\n",
        "# dL/db = 2(w*x + b - y) = 2(pred - y)\n",
        "def gradient_b(x,y,pred):\n",
        "  return 2 * (pred - y)"
      ],
      "execution_count": null,
      "outputs": []
    },
    {
      "cell_type": "code",
      "metadata": {
        "id": "Ad3BiQhnD12B"
      },
      "source": [
        "learning_rate = 0.01\n",
        "n_iters = 10"
      ],
      "execution_count": null,
      "outputs": []
    },
    {
      "cell_type": "code",
      "metadata": {
        "colab": {
          "base_uri": "https://localhost:8080/"
        },
        "id": "dIOtGjWVCsIW",
        "outputId": "0b89f86d-c811-40de-cb55-46adf4911b8c"
      },
      "source": [
        "for epoch in range(n_iters):\n",
        "  # prediction = forward pass\n",
        "  y_pred = forward(x,w,b)\n",
        "\n",
        "  # loss\n",
        "  L = loss(y,y_pred)\n",
        "\n",
        "  # gradients:\n",
        "  dw = gradient_w(x,y,y_pred)\n",
        "  db = gradient_b(x,y,y_pred)\n",
        "\n",
        "  # update w and b \n",
        "  w -= learning_rate * dw\n",
        "  b -= learning_rate * db\n",
        "\n",
        "  if epoch % 1 == 0:\n",
        "    print(f'epoch{epoch + 1}: loss = {L}')\n",
        "print(f'Predication after training : pred = {forward(x,w,b):.3f}')"
      ],
      "execution_count": null,
      "outputs": [
        {
          "output_type": "stream",
          "text": [
            "epoch1: loss = [0.44241491]\n",
            "epoch2: loss = [0.42773948]\n",
            "epoch3: loss = [0.4131774]\n",
            "epoch4: loss = [0.39876519]\n",
            "epoch5: loss = [0.38453726]\n",
            "epoch6: loss = [0.37052562]\n",
            "epoch7: loss = [0.3567596]\n",
            "epoch8: loss = [0.3432657]\n",
            "epoch9: loss = [0.33006747]\n",
            "epoch10: loss = [0.31718543]\n",
            "Predication after training : pred = 0.629\n"
          ],
          "name": "stdout"
        }
      ]
    }
  ]
}